{
 "cells": [
  {
   "cell_type": "code",
   "execution_count": null,
   "metadata": {},
   "outputs": [],
   "source": [
    "import tensorflow as tf\n",
    "from tensorflow.keras import Model\n",
    "from tensorflow.keras.layers import Input\n",
    "from tensorflow.keras.applications.densenet import DenseNet121\n",
    "\n",
    "from utility import get_sample_counts\n",
    "from generator import AugmentedImageSequence\n",
    "from sklearn.metrics import roc_auc_score\n",
    "import numpy as np"
   ]
  },
  {
   "cell_type": "code",
   "execution_count": null,
   "metadata": {},
   "outputs": [],
   "source": [
    "# pre-trained weights from https://github.com/brucechou1983/CheXNet-Keras\n",
    "weights_path = \"pre-trained_weight.h5\"\n",
    "data_path = \"data/default_split\"\n",
    "image_path = \"data/images\""
   ]
  },
  {
   "cell_type": "code",
   "execution_count": null,
   "metadata": {},
   "outputs": [],
   "source": [
    "class_names = ['Atelectasis',\n",
    "            'Cardiomegaly',\n",
    "            'Consolidation',\n",
    "            'Edema',\n",
    "            'Effusion',\n",
    "            'Emphysema',\n",
    "            'Fibrosis',\n",
    "            'Hernia',\n",
    "            'Infiltration',\n",
    "            'Mass',\n",
    "            'Nodule',\n",
    "            'Pleural_Thickening',\n",
    "            'Pneumonia',\n",
    "            'Pneumothorax']\n",
    "\n",
    "def get_model(weights_path=weights_path, input_shape=(224, 224, 3)):\n",
    "    img_input = Input(shape=input_shape)\n",
    "\n",
    "    base_model = DenseNet121(\n",
    "        include_top=False,\n",
    "        input_tensor=img_input,\n",
    "        input_shape=input_shape,\n",
    "        weights=None,\n",
    "        pooling=\"avg\")\n",
    "\n",
    "    x = base_model.output\n",
    "    predictions = tf.keras.layers.Dense(14, activation='sigmoid', name='predictions')(x)\n",
    "    model = Model(inputs=img_input, outputs=predictions)\n",
    "\n",
    "    if weights_path is not None:\n",
    "        print(f\"load model weights_path: {weights_path}\")\n",
    "        model.load_weights(weights_path)\n",
    "    \n",
    "    return model\n",
    "\n",
    "model = get_model(class_names)           "
   ]
  },
  {
   "cell_type": "code",
   "execution_count": null,
   "metadata": {},
   "outputs": [],
   "source": [
    "test_counts, _ = get_sample_counts(data_path, \"test\", class_names)\n",
    "\n",
    "\n",
    "test_ds = AugmentedImageSequence(\n",
    "        dataset_csv_file=data_path +\"/dev.csv\",\n",
    "        class_names=class_names,\n",
    "        source_image_dir=image_path,\n",
    "        batch_size=32,\n",
    "        target_size=(224, 224),\n",
    "        augmenter=None,\n",
    "        steps=int(test_counts / 32),\n",
    "        shuffle_on_epoch_end=False,\n",
    "    )"
   ]
  },
  {
   "cell_type": "code",
   "execution_count": null,
   "metadata": {},
   "outputs": [],
   "source": [
    "y_hat = model.predict(test_ds, verbose=1)\n",
    "y = test_ds.get_y_true()"
   ]
  },
  {
   "cell_type": "code",
   "execution_count": null,
   "metadata": {},
   "outputs": [],
   "source": [
    "aurocs = []\n",
    "with open(\"score.txt\", \"w\") as f:\n",
    "    for i in range(len(class_names)):\n",
    "        try:\n",
    "            score = roc_auc_score(y[:, i], y_hat[:, i])\n",
    "            aurocs.append(score)\n",
    "        except ValueError:\n",
    "            score = 0\n",
    "        f.write(f\"{class_names[i]}: {score}\\n\")\n",
    "    mean_auroc = np.mean(aurocs)\n",
    "    f.write(\"-------------------------\\n\")\n",
    "    f.write(f\"mean auroc: {mean_auroc}\\n\")\n",
    "    print(f\"mean auroc: {mean_auroc}\")"
   ]
  },
  {
   "cell_type": "markdown",
   "metadata": {},
   "source": [
    "Results see test.log"
   ]
  }
 ],
 "metadata": {
  "interpreter": {
   "hash": "af56b377332f73e57f1feb7517e17d5a0e7334afaa776fe306a552797332a2ac"
  },
  "kernelspec": {
   "display_name": "Python 3.8.5 64-bit ('base': conda)",
   "language": "python",
   "name": "python3"
  },
  "language_info": {
   "codemirror_mode": {
    "name": "ipython",
    "version": 3
   },
   "file_extension": ".py",
   "mimetype": "text/x-python",
   "name": "python",
   "nbconvert_exporter": "python",
   "pygments_lexer": "ipython3",
   "version": "3.8.5"
  },
  "orig_nbformat": 4
 },
 "nbformat": 4,
 "nbformat_minor": 2
}
