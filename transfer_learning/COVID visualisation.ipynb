{
 "cells": [
  {
   "cell_type": "code",
   "execution_count": 1,
   "metadata": {},
   "outputs": [],
   "source": [
    "import pandas as pd\n",
    "import matplotlib.pyplot as plt\n",
    "import numpy as np\n",
    "from collections import Counter\n",
    "import tensorflow as tf\n"
   ]
  },
  {
   "cell_type": "code",
   "execution_count": 2,
   "metadata": {},
   "outputs": [
    {
     "name": "stdout",
     "output_type": "stream",
     "text": [
      "Training Images: (14925, 224, 224, 3) | Test Images: (231, 224, 224, 3)\n",
      "Training Labels: (14925,) | Test Labels: (231,)\n",
      "Train: 0.0 , 255.0 | Test: 0.0 , 255.0\n",
      "Train: 0.0 , 1.0 | Test: 0.0 , 1.0\n"
     ]
    }
   ],
   "source": [
    "# data from https://github.com/zeeshannisar/COVID-19/blob/master/Implementations/dataset%2002/DenseNet169-Transfer%20Learning-COVID19-dataset%2002.ipynb\n",
    "dataDir = 'covid_data'\n",
    "train_x = np.load(dataDir+'/train_images.npy')\n",
    "train_y = np.load(dataDir+'/train_labels.npy')\n",
    "test_x = np.load(dataDir+'/test_images.npy')\n",
    "test_y = np.load(dataDir+'/test_labels.npy')\n",
    "\n",
    "\n",
    "print('Training Images: {} | Test Images: {}'.format(train_x.shape, test_x.shape))\n",
    "print('Training Labels: {} | Test Labels: {}'.format(train_y.shape, test_y.shape))\n",
    "\n",
    "# Data Normalization\n",
    "\n",
    "print('Train: {} , {} | Test: {} , {}'.format(train_x.min(), train_x.max(), test_x.min(), test_x.max()))\n",
    "\n",
    "train_x/=255.0\n",
    "test_x/=255.0\n",
    "\n",
    "print('Train: {} , {} | Test: {} , {}'.format(train_x.min(), train_x.max(), test_x.min(), test_x.max()))"
   ]
  },
  {
   "cell_type": "code",
   "execution_count": 3,
   "metadata": {},
   "outputs": [
    {
     "name": "stdout",
     "output_type": "stream",
     "text": [
      "0:Normal | 1:Pneumonia | 2:COVID-19\n",
      "Counter({0: 8751, 1: 5945, 2: 229})\n",
      "Counter({0: 100, 1: 100, 2: 31})\n",
      "Training Labels: (14925, 3) | Test Labels: (231, 3)\n"
     ]
    }
   ],
   "source": [
    "# Class Mapping \n",
    "print('0:Normal | 1:Pneumonia | 2:COVID-19')\n",
    "\n",
    "# Distribution of images in each class for Training-set\n",
    "print(Counter(train_y))\n",
    "\n",
    "# Distribution of images in each class for Test-set\n",
    "print(Counter(test_y))\n",
    "\n",
    "#Make Labels Categorical\n",
    "train_y_oneHot = tf.one_hot(train_y, depth=3) \n",
    "test_y_oneHot = tf.one_hot(test_y, depth=3)\n",
    "\n",
    "print('Training Labels: {} | Test Labels: {}'.format(train_y_oneHot.shape, test_y_oneHot.shape))"
   ]
  },
  {
   "cell_type": "code",
   "execution_count": 4,
   "metadata": {},
   "outputs": [],
   "source": [
    "my_dict = {'Image_Index': [],\n",
    "           'Finding_Labels': []}\n",
    "\n",
    "for i in range(len(test_y)):\n",
    "    my_dict['Image_Index'].append(i)\n",
    "    my_dict['Finding_Labels'].append(test_y[i])\n",
    "\n"
   ]
  },
  {
   "cell_type": "code",
   "execution_count": 5,
   "metadata": {},
   "outputs": [
    {
     "data": {
      "text/html": [
       "<div>\n",
       "<style scoped>\n",
       "    .dataframe tbody tr th:only-of-type {\n",
       "        vertical-align: middle;\n",
       "    }\n",
       "\n",
       "    .dataframe tbody tr th {\n",
       "        vertical-align: top;\n",
       "    }\n",
       "\n",
       "    .dataframe thead th {\n",
       "        text-align: right;\n",
       "    }\n",
       "</style>\n",
       "<table border=\"1\" class=\"dataframe\">\n",
       "  <thead>\n",
       "    <tr style=\"text-align: right;\">\n",
       "      <th></th>\n",
       "      <th>Image_Index</th>\n",
       "      <th>Finding_Labels</th>\n",
       "    </tr>\n",
       "  </thead>\n",
       "  <tbody>\n",
       "    <tr>\n",
       "      <th>0</th>\n",
       "      <td>0</td>\n",
       "      <td>0</td>\n",
       "    </tr>\n",
       "    <tr>\n",
       "      <th>1</th>\n",
       "      <td>1</td>\n",
       "      <td>0</td>\n",
       "    </tr>\n",
       "    <tr>\n",
       "      <th>2</th>\n",
       "      <td>2</td>\n",
       "      <td>0</td>\n",
       "    </tr>\n",
       "    <tr>\n",
       "      <th>3</th>\n",
       "      <td>3</td>\n",
       "      <td>0</td>\n",
       "    </tr>\n",
       "    <tr>\n",
       "      <th>4</th>\n",
       "      <td>4</td>\n",
       "      <td>0</td>\n",
       "    </tr>\n",
       "  </tbody>\n",
       "</table>\n",
       "</div>"
      ],
      "text/plain": [
       "   Image_Index  Finding_Labels\n",
       "0            0               0\n",
       "1            1               0\n",
       "2            2               0\n",
       "3            3               0\n",
       "4            4               0"
      ]
     },
     "execution_count": 5,
     "metadata": {},
     "output_type": "execute_result"
    }
   ],
   "source": [
    "df = pd.DataFrame.from_dict(my_dict)\n",
    "df.dtypes\n",
    "df.head()"
   ]
  },
  {
   "cell_type": "code",
   "execution_count": 6,
   "metadata": {},
   "outputs": [
    {
     "data": {
      "text/html": [
       "<div>\n",
       "<style scoped>\n",
       "    .dataframe tbody tr th:only-of-type {\n",
       "        vertical-align: middle;\n",
       "    }\n",
       "\n",
       "    .dataframe tbody tr th {\n",
       "        vertical-align: top;\n",
       "    }\n",
       "\n",
       "    .dataframe thead th {\n",
       "        text-align: right;\n",
       "    }\n",
       "</style>\n",
       "<table border=\"1\" class=\"dataframe\">\n",
       "  <thead>\n",
       "    <tr style=\"text-align: right;\">\n",
       "      <th></th>\n",
       "      <th>Image_Index</th>\n",
       "      <th>Finding_Labels</th>\n",
       "    </tr>\n",
       "  </thead>\n",
       "  <tbody>\n",
       "    <tr>\n",
       "      <th>count</th>\n",
       "      <td>231.000000</td>\n",
       "      <td>231.000000</td>\n",
       "    </tr>\n",
       "    <tr>\n",
       "      <th>mean</th>\n",
       "      <td>115.000000</td>\n",
       "      <td>0.701299</td>\n",
       "    </tr>\n",
       "    <tr>\n",
       "      <th>std</th>\n",
       "      <td>66.828138</td>\n",
       "      <td>0.692788</td>\n",
       "    </tr>\n",
       "    <tr>\n",
       "      <th>min</th>\n",
       "      <td>0.000000</td>\n",
       "      <td>0.000000</td>\n",
       "    </tr>\n",
       "    <tr>\n",
       "      <th>25%</th>\n",
       "      <td>57.500000</td>\n",
       "      <td>0.000000</td>\n",
       "    </tr>\n",
       "    <tr>\n",
       "      <th>50%</th>\n",
       "      <td>115.000000</td>\n",
       "      <td>1.000000</td>\n",
       "    </tr>\n",
       "    <tr>\n",
       "      <th>75%</th>\n",
       "      <td>172.500000</td>\n",
       "      <td>1.000000</td>\n",
       "    </tr>\n",
       "    <tr>\n",
       "      <th>max</th>\n",
       "      <td>230.000000</td>\n",
       "      <td>2.000000</td>\n",
       "    </tr>\n",
       "  </tbody>\n",
       "</table>\n",
       "</div>"
      ],
      "text/plain": [
       "       Image_Index  Finding_Labels\n",
       "count   231.000000      231.000000\n",
       "mean    115.000000        0.701299\n",
       "std      66.828138        0.692788\n",
       "min       0.000000        0.000000\n",
       "25%      57.500000        0.000000\n",
       "50%     115.000000        1.000000\n",
       "75%     172.500000        1.000000\n",
       "max     230.000000        2.000000"
      ]
     },
     "execution_count": 6,
     "metadata": {},
     "output_type": "execute_result"
    }
   ],
   "source": [
    "df.describe()"
   ]
  },
  {
   "cell_type": "code",
   "execution_count": 7,
   "metadata": {},
   "outputs": [
    {
     "data": {
      "text/plain": [
       "<AxesSubplot:>"
      ]
     },
     "execution_count": 7,
     "metadata": {},
     "output_type": "execute_result"
    },
    {
     "data": {
      "image/png": "[encoded data removed]",
      "text/plain": [
       "<Figure size 432x288 with 1 Axes>"
      ]
     },
     "metadata": {
      "needs_background": "light"
     },
     "output_type": "display_data"
    }
   ],
   "source": [
    "df.plot() #kind='hist'"
   ]
  },
  {
   "cell_type": "code",
   "execution_count": 8,
   "metadata": {},
   "outputs": [],
   "source": [
    "import glob\n",
    "import matplotlib.image as mpimg\n",
    "from skimage.transform import resize"
   ]
  },
  {
   "cell_type": "code",
   "execution_count": 49,
   "metadata": {},
   "outputs": [],
   "source": [
    "# convert numpy arrays and save as images\n",
    "\n",
    "# from PIL import Image\n",
    "# test_x.shape\n",
    "# # plt.imshow(test_x[219])\n",
    "\n",
    "# for i in range(len(test_y)):\n",
    "#     im = Image.fromarray((test_x[i]*255).astype(np.uint8))\n",
    "#     im.save(f'./covid_data/test_images/{i}.png')\n",
    "# print(\"complete\")"
   ]
  },
  {
   "cell_type": "code",
   "execution_count": 9,
   "metadata": {},
   "outputs": [],
   "source": [
    "all_imgs_flat = test_x.reshape((len(test_x), 224*224*3))"
   ]
  },
  {
   "cell_type": "code",
   "execution_count": 10,
   "metadata": {},
   "outputs": [],
   "source": [
    "from sklearn.manifold import TSNE\n",
    "import os"
   ]
  },
  {
   "cell_type": "code",
   "execution_count": 11,
   "metadata": {},
   "outputs": [
    {
     "name": "stdout",
     "output_type": "stream",
     "text": [
      "(231, 2)\n"
     ]
    }
   ],
   "source": [
    "model = TSNE(n_components=2, init='pca') #, method='exact')\n",
    "X_embedded = model.fit_transform(all_imgs_flat)\n",
    "\n",
    "print(X_embedded.shape)"
   ]
  },
  {
   "cell_type": "code",
   "execution_count": 12,
   "metadata": {},
   "outputs": [
    {
     "data": {
      "text/plain": [
       "<matplotlib.collections.PathCollection at 0x20e53d295e0>"
      ]
     },
     "execution_count": 12,
     "metadata": {},
     "output_type": "execute_result"
    },
    {
     "data": {
      "image/png": "[encoded data removed]",
      "text/plain": [
       "<Figure size 720x360 with 1 Axes>"
      ]
     },
     "metadata": {
      "needs_background": "light"
     },
     "output_type": "display_data"
    }
   ],
   "source": [
    "fig = plt.figure(figsize=(10,5))\n",
    "ax = fig.add_subplot(111)\n",
    "ax.scatter(X_embedded[:,0], X_embedded[:,1], s=25)"
   ]
  },
  {
   "cell_type": "code",
   "execution_count": 13,
   "metadata": {},
   "outputs": [
    {
     "data": {
      "text/plain": [
       "Index(['Image_Index', 'Finding_Labels'], dtype='object')"
      ]
     },
     "execution_count": 13,
     "metadata": {},
     "output_type": "execute_result"
    }
   ],
   "source": [
    "df.columns"
   ]
  },
  {
   "cell_type": "code",
   "execution_count": 14,
   "metadata": {},
   "outputs": [
    {
     "name": "stdout",
     "output_type": "stream",
     "text": [
      "231\n"
     ]
    }
   ],
   "source": [
    "print(len(df))\n",
    "data_range = len(test_y)\n",
    "images = \"./covid_data/test_images\"\n",
    "img_fns = glob.glob(images + \"/*.png\")\n"
   ]
  },
  {
   "cell_type": "code",
   "execution_count": 15,
   "metadata": {},
   "outputs": [],
   "source": [
    "import re\n",
    "\n",
    "# natural key sorting for the images\n",
    "def atoi(text):\n",
    "    return int(text) if text.isdigit() else text\n",
    "\n",
    "def natural_key(img_fns):\n",
    "    return [ atoi(c) for c in re.split(r'(\\d+)', img_fns) ]\n",
    "\n",
    "img_fns.sort(key = natural_key)"
   ]
  },
  {
   "cell_type": "code",
   "execution_count": 16,
   "metadata": {},
   "outputs": [],
   "source": [
    "df['x_val'] = pd.Series([data_range])\n",
    "df['x_val'] = X_embedded[:,0]\n",
    "df['y_val'] = X_embedded[:,1]\n",
    "\n",
    "df['filepaths'] = img_fns[0:data_range]\n",
    "\n",
    "base_filepaths = [os.path.basename(fn) for fn in img_fns[0:data_range]]\n",
    "df['base_filepaths'] = base_filepaths"
   ]
  },
  {
   "cell_type": "code",
   "execution_count": 17,
   "metadata": {},
   "outputs": [
    {
     "name": "stdout",
     "output_type": "stream",
     "text": [
      "color_Finding_Labels\n"
     ]
    }
   ],
   "source": [
    "import struct #for coloring\n",
    "# map colors\n",
    "def clamp(x):\n",
    "    return max(0, min(x, 255))\n",
    "\n",
    "def set_colors(vals_for_color):\n",
    "    min_val = min(vals_for_color); max_val = max(vals_for_color)\n",
    "    vals_for_color_norm = [(float(val) - min_val) / (max_val - min_val) for val in vals_for_color] #between 0 and 1\n",
    "    vals_for_color_norm = [val if val<1 else 0.9999 for val in vals_for_color_norm]\n",
    "\n",
    "    colors_unit = [plt.cm.seismic(val)[:3] for val in vals_for_color_norm]\n",
    "    colors_rgb = [(int(color[0]*255), int(color[1]*255), int(color[2]*255)) for color in colors_unit]\n",
    "\n",
    "    colors_hex = [\"#{0:02x}{1:02x}{2:02x}\".format(clamp(color_rgb[0]), clamp(color_rgb[1]), clamp(color_rgb[2])) for color_rgb in colors_rgb]\n",
    "    \n",
    "    return colors_hex\n",
    "\n",
    "# 'Finding_Labels', 'Follow_Up', 'Patient_ID', 'AGE', 'SEX'\n",
    "# 'View_Position', 'Orig_Width', 'Orig_Height', 'Pixel_X', 'Pixel_Y'\n",
    "for col in ['Finding_Labels']:\n",
    "    print('color_'+col)\n",
    "    my_col_string = 'color_'+col\n",
    "    df[my_col_string] = set_colors(df[col].values)\n",
    "\n",
    "df['color_data'] = set_colors(df.Finding_Labels)"
   ]
  },
  {
   "cell_type": "code",
   "execution_count": 18,
   "metadata": {},
   "outputs": [
    {
     "data": {
      "text/plain": [
       "Index(['Image_Index', 'Finding_Labels', 'x_val', 'y_val', 'filepaths',\n",
       "       'base_filepaths', 'color_Finding_Labels', 'color_data'],\n",
       "      dtype='object')"
      ]
     },
     "execution_count": 18,
     "metadata": {},
     "output_type": "execute_result"
    }
   ],
   "source": [
    "df.columns"
   ]
  },
  {
   "cell_type": "code",
   "execution_count": 21,
   "metadata": {},
   "outputs": [],
   "source": [
    "# Create bokeh plot\n",
    "from bokeh.plotting import figure, output_file, show, ColumnDataSource\n",
    "from bokeh.models import CustomJS, HoverTool, PanTool, WheelZoomTool\n",
    "from bokeh.models.widgets import Button\n",
    "from bokeh.layouts import column, row\n",
    "\n",
    "output_file(\"./bokeh_vis_Covid.html\")\n",
    "figure_size=500\n",
    "\n",
    "# Change colour here:\n",
    "df['color_data'] = set_colors(df.Finding_Labels)\n",
    "\n",
    "source = ColumnDataSource(data=df.to_dict('list'))\n",
    "source2 = ColumnDataSource(data=df.to_dict('list'))\n",
    "\n",
    "# 'Finding_Labels', 'Follow_Up', 'Patient_ID', 'AGE', 'SEX' , \n",
    "# 'View_Position', 'Orig_Width', 'Orig_Height', 'Pixel_X', 'Pixel_Y\n",
    "hover = HoverTool(\n",
    "    tooltips=\"\"\"\n",
    "        <div>\n",
    "            <span style=\"font-size: 14px;\">@Image_Index</span>\n",
    "            <br>\n",
    "            <span style=\"font-size: 10px;\">Finding_Labels: @Finding_Labels</span>\n",
    "        </div>\n",
    "        <div>\n",
    "            <img\n",
    "                src=\"@filepaths\" alt=\"@base_filepaths\" height=\"208\" width=\"176\"\n",
    "                style=\"float: center;\"\n",
    "                border=\"2\"\n",
    "            ></img>\n",
    "        </div>\n",
    "        \"\"\"\n",
    ")\n",
    "\n",
    "#set up the plot  \n",
    "p = figure(tools=[hover, PanTool(), WheelZoomTool()], #WheelZoomTool()\n",
    "            plot_width=figure_size+500, plot_height=figure_size,\n",
    "            toolbar_location=\"above\", title=\"COVID analysis - pixel\")\n",
    "\n",
    "#draw the scatter plot\n",
    "p.circle('x_val', 'y_val', fill_color='color_data', source=source, line_color='black', size=10, alpha=0.7)\n",
    "\n",
    "from bokeh.models import LinearAxis\n",
    "p.xaxis.visible = None\n",
    "p.yaxis.visible = None\n",
    "xaxis = LinearAxis(axis_label= \"X-embedding\")\n",
    "yaxis = LinearAxis(axis_label= \"Y-embedding\")\n",
    "p.add_layout(xaxis, 'below')\n",
    "p.add_layout(yaxis, 'left')\n",
    "p.background_fill_color = \"#dddddd\"\n",
    "\n",
    "callback = CustomJS(args=dict(source=source, source2=source2, xaxis=xaxis, yaxis=yaxis), code=\"\"\"\n",
    "    var data = source.data;\n",
    "    var data2 = source2.data;\n",
    "    data['color_data'] = data2[cb_obj.origin.name];\n",
    "    source.change.emit();\n",
    "\"\"\")\n",
    "\n",
    "toggle1 = Button(label=\"Finding_Labels\",name=\"color_Finding_Labels\")\n",
    "\n",
    "\n",
    "toggle1.js_on_click(callback) \n",
    "\n",
    "\n",
    "#output\n",
    "layout = column(p, toggle1)\n",
    "show(layout)\n",
    "# show(p)"
   ]
  }
 ],
 "metadata": {
  "interpreter": {
   "hash": "7af94aaf5511cf88629a95f5b864499e489d47e4c839a72cd6c6478b92c3431f"
  },
  "kernelspec": {
   "display_name": "IMikrokosmos",
   "language": "python",
   "name": "python3"
  },
  "language_info": {
   "codemirror_mode": {
    "name": "ipython",
    "version": 3
   },
   "file_extension": ".py",
   "mimetype": "text/x-python",
   "name": "python",
   "nbconvert_exporter": "python",
   "pygments_lexer": "ipython3",
   "version": "3.8.5"
  },
  "orig_nbformat": 4
 },
 "nbformat": 4,
 "nbformat_minor": 2
}
