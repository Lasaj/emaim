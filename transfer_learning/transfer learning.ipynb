{
 "cells": [
  {
   "cell_type": "code",
   "execution_count": null,
   "metadata": {},
   "outputs": [],
   "source": [
    "import tensorflow as tf\n",
    "from tensorflow.keras import Model\n",
    "from tensorflow.keras.utils import plot_model\n",
    "from tensorflow.keras import backend as K\n",
    "import matplotlib.pyplot as plt\n",
    "from tensorflow.keras.layers import Input\n",
    "from tensorflow.keras.applications.densenet import DenseNet121\n",
    "from tensorflow.keras.callbacks import ModelCheckpoint, ReduceLROnPlateau\n",
    "from generator import XraySequence\n",
    "import matplotlib.pyplot as PIL\n",
    "from tensorflow.keras.layers import Dense,GlobalAveragePooling2D,Convolution2D,BatchNormalization\n",
    "import pandas as pd \n",
    "import numpy as np\n",
    "from skimage.transform import resize\n",
    "from collections import Counter\n",
    "import os\n",
    "\n"
   ]
  },
  {
   "cell_type": "code",
   "execution_count": null,
   "metadata": {},
   "outputs": [],
   "source": [
    "# data from https://github.com/zeeshannisar/COVID-19/blob/master/Implementations/dataset%2002/DenseNet169-Transfer%20Learning-COVID19-dataset%2002.ipynb\n",
    "dataDir = 'covid_data'\n",
    "train_x = np.load(dataDir+'/train_images.npy')\n",
    "train_y = np.load(dataDir+'/train_labels.npy')\n",
    "test_x = np.load(dataDir+'/test_images.npy')\n",
    "test_y = np.load(dataDir+'/test_labels.npy')\n",
    "\n",
    "print('Training Images: {} | Test Images: {}'.format(train_x.shape, test_x.shape))\n",
    "print('Training Labels: {} | Test Labels: {}'.format(train_y.shape, test_y.shape))\n",
    "\n",
    "# Data Normalization\n",
    "\n",
    "print('Train: {} , {} | Test: {} , {}'.format(train_x.min(), train_x.max(), test_x.min(), test_x.max()))\n",
    "\n",
    "train_x/=255.0\n",
    "test_x/=255.0\n",
    "\n",
    "print('Train: {} , {} | Test: {} , {}'.format(train_x.min(), train_x.max(), test_x.min(), test_x.max()))"
   ]
  },
  {
   "cell_type": "code",
   "execution_count": null,
   "metadata": {},
   "outputs": [],
   "source": [
    "# Class Mapping \n",
    "print('0:Normal | 1:Pneumonia | 2:COVID-19')\n",
    "\n",
    "# Distribution of images in each class for Training-set\n",
    "print(Counter(train_y))\n",
    "\n",
    "# Distribution of images in each class for Test-set\n",
    "print(Counter(test_y))\n",
    "\n",
    "#Make Labels Categorical\n",
    "train_y_oneHot = tf.one_hot(train_y, depth=3) \n",
    "test_y_oneHot = tf.one_hot(test_y, depth=3)\n",
    "\n",
    "print('Training Labels: {} | Test Labels: {}'.format(train_y_oneHot.shape, test_y_oneHot.shape))"
   ]
  },
  {
   "cell_type": "code",
   "execution_count": null,
   "metadata": {},
   "outputs": [],
   "source": [
    "def get_base_model(weights_path=\"pre-trained_weight.h5\", input_shape=(224, 224, 3)):\n",
    "\n",
    "    base_weights = None\n",
    "\n",
    "    img_input = Input(shape=input_shape)\n",
    "\n",
    "    base_model = DenseNet121(\n",
    "        include_top=False,\n",
    "        input_tensor=img_input,\n",
    "        input_shape=input_shape,\n",
    "        weights=base_weights,\n",
    "        pooling=\"avg\")\n",
    "\n",
    "    x = base_model.output\n",
    "    predictions = tf.keras.layers.Dense(14, activation='sigmoid', name='predictions')(x)\n",
    "    model = Model(inputs=img_input, outputs=predictions)\n",
    "\n",
    "    print(f\"load model weights_path: {weights_path}\")\n",
    "    model.load_weights(weights_path)\n",
    "    \n",
    "    return model\n",
    "\n",
    "def DenseNet121_Model():\n",
    "    baseModel = get_base_model()\n",
    "    print(baseModel.summary())\n",
    "\n",
    "    # construct the head of the model that will be placed on top of the the base model\n",
    "    output = tf.keras.layers.AveragePooling2D(pool_size=(4, 4))(baseModel.layers[-3].output) # remove the FC layers \n",
    "    output = tf.keras.layers.Flatten(name=\"flatten\")(output)\n",
    "    output = tf.keras.layers.Dense(512, activation=\"relu\")(output)\n",
    "    output = tf.keras.layers.Dropout(0.25)(output)\n",
    "    output = Dense(3,activation=\"softmax\")(output)\n",
    "\n",
    "    # place the head FC model on top of baseModel\n",
    "    model = tf.keras.Model(inputs=baseModel.input, outputs=output)\n",
    "    # print(model.summary())\n",
    "\n",
    "    # loop over all layers in the base model and freeze them so they will not be updated during the first training process\n",
    "    for layer in baseModel.layers:\n",
    "        layer.trainable = False\n",
    "    return model\n",
    "\n",
    "model = DenseNet121_Model()\n",
    "# model.summary()\n"
   ]
  },
  {
   "cell_type": "code",
   "execution_count": null,
   "metadata": {},
   "outputs": [],
   "source": [
    "INIT_LR = 0.001\n",
    "EPOCHS = 50\n",
    "BATCHSIZE = 32 \n",
    "optimizer = tf.keras.optimizers.Adam(learning_rate=INIT_LR, decay=INIT_LR / EPOCHS)\n",
    "model.compile(loss=\"categorical_crossentropy\", optimizer=optimizer, metrics=[tf.keras.metrics.CategoricalAccuracy(), tf.keras.metrics.AUC()])\n",
    "print(model.summary())"
   ]
  },
  {
   "cell_type": "code",
   "execution_count": null,
   "metadata": {},
   "outputs": [],
   "source": [
    "trainAug = tf.keras.preprocessing.image.ImageDataGenerator(rotation_range=15, fill_mode=\"nearest\")\n",
    "\n",
    "modelPath = './saved Models/Densenet121_covid'\n",
    "if not os.path.exists(modelPath):\n",
    "  os.makedirs(modelPath)\n",
    "  print('Model Directory Created')\n",
    "else:\n",
    "  print('Model Directory Already Exists')\n",
    "\n",
    "model_checkpoint = tf.keras.callbacks.ModelCheckpoint(modelPath+'/denseNet121best-model.h5', monitor='val_categorical_accuracy',\n",
    "                                                      verbose=1, save_best_only=True, mode='auto')\n",
    "\n",
    "STEP_TRAIN = len(train_x) // BATCHSIZE\n",
    "STEP_TEST = len(test_x) // BATCHSIZE\n",
    "modelHistory = model.fit(trainAug.flow(train_x, train_y_oneHot, batch_size=BATCHSIZE), epochs=EPOCHS, verbose=1, callbacks=[model_checkpoint],\n",
    "                         validation_data=(test_x, test_y_oneHot), shuffle = True, steps_per_epoch=STEP_TRAIN, validation_steps=STEP_TEST)\n",
    "tf.keras.models.save_model(model, modelPath+'/denseNet121-model.h5', overwrite=True, include_optimizer=True, save_format=None,\n",
    "                           signatures=None, options=None)"
   ]
  }
 ],
 "metadata": {
  "interpreter": {
   "hash": "af56b377332f73e57f1feb7517e17d5a0e7334afaa776fe306a552797332a2ac"
  },
  "kernelspec": {
   "display_name": "Python 3.8.5 64-bit ('base': conda)",
   "language": "python",
   "name": "python3"
  },
  "language_info": {
   "codemirror_mode": {
    "name": "ipython",
    "version": 3
   },
   "file_extension": ".py",
   "mimetype": "text/x-python",
   "name": "python",
   "nbconvert_exporter": "python",
   "pygments_lexer": "ipython3",
   "version": "3.8.5"
  },
  "orig_nbformat": 4
 },
 "nbformat": 4,
 "nbformat_minor": 2
}
