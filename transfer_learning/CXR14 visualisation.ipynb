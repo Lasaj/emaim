{
 "cells": [
  {
   "cell_type": "code",
   "execution_count": 1,
   "metadata": {},
   "outputs": [],
   "source": [
    "import pandas as pd\n",
    "import matplotlib.pyplot as plt\n",
    "import numpy as np\n"
   ]
  },
  {
   "cell_type": "code",
   "execution_count": 2,
   "metadata": {},
   "outputs": [],
   "source": [
    "# Locate Data Files\n",
    "images = \"data/images\"\n",
    "data_entry =\"data/Data_Entry_2017_v2020.csv\"\n",
    "\n",
    "# Change the size of data that will be included in the plot\n",
    "data_range = 1000"
   ]
  },
  {
   "cell_type": "code",
   "execution_count": 3,
   "metadata": {},
   "outputs": [],
   "source": [
    "my_dict = {'Image_Index': [],\n",
    "           'Labels':[],\n",
    "           'Finding_Labels': [],\n",
    "           'Follow_Up': [],\n",
    "           'Patient_ID': [],\n",
    "           'AGE': [],\n",
    "           'SEX': [],\n",
    "           'View_Position': [],\n",
    "           'View': [],\n",
    "           'Orig_Width': [],\n",
    "           'Orig_Height': [],\n",
    "           'Pixel_X': [],\n",
    "           'Pixel_Y': []}\n",
    "\n",
    "df = pd.read_csv(data_entry)[0:data_range]\n",
    "\n",
    "\n",
    "for i in range(len(df)):\n",
    "    my_dict['Image_Index'].append(df['Image Index'].values[i])\n",
    "    my_dict['Labels'].append(df['Finding Labels'].values[i])\n",
    "    my_dict['Finding_Labels'].append(df['Finding Labels'].values[i])\n",
    "    my_dict['Follow_Up'].append(df['Follow-up #'].values[i])\n",
    "    my_dict['Patient_ID'].append(df['Patient ID'].values[i])\n",
    "    my_dict['AGE'].append(df['Patient Age'].values[i])\n",
    "    my_dict['SEX'].append(df['Patient Gender'].values[i])\n",
    "    my_dict['View'].append(df['View Position'].values[i])\n",
    "    my_dict['View_Position'].append(df['View Position'].values[i])\n",
    "    my_dict['Orig_Width'].append(df['OriginalImage[Width'].values[i])\n",
    "    my_dict['Orig_Height'].append(df['Height]'].values[i])\n",
    "    my_dict['Pixel_X'].append(df['OriginalImagePixelSpacing[x'].values[i])\n",
    "    my_dict['Pixel_Y'].append(df['y]'].values[i])\n"
   ]
  },
  {
   "cell_type": "code",
   "execution_count": 4,
   "metadata": {},
   "outputs": [
    {
     "data": {
      "text/html": [
       "<div>\n",
       "<style scoped>\n",
       "    .dataframe tbody tr th:only-of-type {\n",
       "        vertical-align: middle;\n",
       "    }\n",
       "\n",
       "    .dataframe tbody tr th {\n",
       "        vertical-align: top;\n",
       "    }\n",
       "\n",
       "    .dataframe thead th {\n",
       "        text-align: right;\n",
       "    }\n",
       "</style>\n",
       "<table border=\"1\" class=\"dataframe\">\n",
       "  <thead>\n",
       "    <tr style=\"text-align: right;\">\n",
       "      <th></th>\n",
       "      <th>Image_Index</th>\n",
       "      <th>Labels</th>\n",
       "      <th>Finding_Labels</th>\n",
       "      <th>Follow_Up</th>\n",
       "      <th>Patient_ID</th>\n",
       "      <th>AGE</th>\n",
       "      <th>SEX</th>\n",
       "      <th>View_Position</th>\n",
       "      <th>View</th>\n",
       "      <th>Orig_Width</th>\n",
       "      <th>Orig_Height</th>\n",
       "      <th>Pixel_X</th>\n",
       "      <th>Pixel_Y</th>\n",
       "    </tr>\n",
       "  </thead>\n",
       "  <tbody>\n",
       "    <tr>\n",
       "      <th>0</th>\n",
       "      <td>00000001_000.png</td>\n",
       "      <td>Cardiomegaly</td>\n",
       "      <td>Cardiomegaly</td>\n",
       "      <td>0</td>\n",
       "      <td>1</td>\n",
       "      <td>57</td>\n",
       "      <td>M</td>\n",
       "      <td>PA</td>\n",
       "      <td>PA</td>\n",
       "      <td>2682</td>\n",
       "      <td>2749</td>\n",
       "      <td>0.143</td>\n",
       "      <td>0.143</td>\n",
       "    </tr>\n",
       "    <tr>\n",
       "      <th>1</th>\n",
       "      <td>00000001_001.png</td>\n",
       "      <td>Cardiomegaly|Emphysema</td>\n",
       "      <td>Cardiomegaly|Emphysema</td>\n",
       "      <td>1</td>\n",
       "      <td>1</td>\n",
       "      <td>58</td>\n",
       "      <td>M</td>\n",
       "      <td>PA</td>\n",
       "      <td>PA</td>\n",
       "      <td>2894</td>\n",
       "      <td>2729</td>\n",
       "      <td>0.143</td>\n",
       "      <td>0.143</td>\n",
       "    </tr>\n",
       "    <tr>\n",
       "      <th>2</th>\n",
       "      <td>00000001_002.png</td>\n",
       "      <td>Cardiomegaly|Effusion</td>\n",
       "      <td>Cardiomegaly|Effusion</td>\n",
       "      <td>2</td>\n",
       "      <td>1</td>\n",
       "      <td>58</td>\n",
       "      <td>M</td>\n",
       "      <td>PA</td>\n",
       "      <td>PA</td>\n",
       "      <td>2500</td>\n",
       "      <td>2048</td>\n",
       "      <td>0.168</td>\n",
       "      <td>0.168</td>\n",
       "    </tr>\n",
       "    <tr>\n",
       "      <th>3</th>\n",
       "      <td>00000002_000.png</td>\n",
       "      <td>No Finding</td>\n",
       "      <td>No Finding</td>\n",
       "      <td>0</td>\n",
       "      <td>2</td>\n",
       "      <td>80</td>\n",
       "      <td>M</td>\n",
       "      <td>PA</td>\n",
       "      <td>PA</td>\n",
       "      <td>2500</td>\n",
       "      <td>2048</td>\n",
       "      <td>0.171</td>\n",
       "      <td>0.171</td>\n",
       "    </tr>\n",
       "    <tr>\n",
       "      <th>4</th>\n",
       "      <td>00000003_001.png</td>\n",
       "      <td>Hernia</td>\n",
       "      <td>Hernia</td>\n",
       "      <td>0</td>\n",
       "      <td>3</td>\n",
       "      <td>74</td>\n",
       "      <td>F</td>\n",
       "      <td>PA</td>\n",
       "      <td>PA</td>\n",
       "      <td>2500</td>\n",
       "      <td>2048</td>\n",
       "      <td>0.168</td>\n",
       "      <td>0.168</td>\n",
       "    </tr>\n",
       "  </tbody>\n",
       "</table>\n",
       "</div>"
      ],
      "text/plain": [
       "        Image_Index                  Labels          Finding_Labels  \\\n",
       "0  00000001_000.png            Cardiomegaly            Cardiomegaly   \n",
       "1  00000001_001.png  Cardiomegaly|Emphysema  Cardiomegaly|Emphysema   \n",
       "2  00000001_002.png   Cardiomegaly|Effusion   Cardiomegaly|Effusion   \n",
       "3  00000002_000.png              No Finding              No Finding   \n",
       "4  00000003_001.png                  Hernia                  Hernia   \n",
       "\n",
       "   Follow_Up  Patient_ID  AGE SEX View_Position View  Orig_Width  Orig_Height  \\\n",
       "0          0           1   57   M            PA   PA        2682         2749   \n",
       "1          1           1   58   M            PA   PA        2894         2729   \n",
       "2          2           1   58   M            PA   PA        2500         2048   \n",
       "3          0           2   80   M            PA   PA        2500         2048   \n",
       "4          0           3   74   F            PA   PA        2500         2048   \n",
       "\n",
       "   Pixel_X  Pixel_Y  \n",
       "0    0.143    0.143  \n",
       "1    0.143    0.143  \n",
       "2    0.168    0.168  \n",
       "3    0.171    0.171  \n",
       "4    0.168    0.168  "
      ]
     },
     "execution_count": 4,
     "metadata": {},
     "output_type": "execute_result"
    }
   ],
   "source": [
    "df = pd.DataFrame.from_dict(my_dict)\n",
    "df.dtypes\n",
    "df.head()"
   ]
  },
  {
   "cell_type": "code",
   "execution_count": 5,
   "metadata": {},
   "outputs": [],
   "source": [
    "# Convert categorical columns to int\n",
    "df['Finding_Labels'] = df['Finding_Labels'].astype('category')\n",
    "df['SEX'] = df['SEX'].astype('category')\n",
    "df['View_Position'] = df['View_Position'].astype('category')\n",
    "\n",
    "\n",
    "cat_columns = df.select_dtypes(['category']).columns\n",
    "df[cat_columns] = df[cat_columns].apply(lambda x: x.cat.codes)"
   ]
  },
  {
   "cell_type": "code",
   "execution_count": 6,
   "metadata": {},
   "outputs": [
    {
     "data": {
      "text/html": [
       "<div>\n",
       "<style scoped>\n",
       "    .dataframe tbody tr th:only-of-type {\n",
       "        vertical-align: middle;\n",
       "    }\n",
       "\n",
       "    .dataframe tbody tr th {\n",
       "        vertical-align: top;\n",
       "    }\n",
       "\n",
       "    .dataframe thead th {\n",
       "        text-align: right;\n",
       "    }\n",
       "</style>\n",
       "<table border=\"1\" class=\"dataframe\">\n",
       "  <thead>\n",
       "    <tr style=\"text-align: right;\">\n",
       "      <th></th>\n",
       "      <th>Finding_Labels</th>\n",
       "      <th>Follow_Up</th>\n",
       "      <th>Patient_ID</th>\n",
       "      <th>AGE</th>\n",
       "      <th>SEX</th>\n",
       "      <th>View_Position</th>\n",
       "      <th>Orig_Width</th>\n",
       "      <th>Orig_Height</th>\n",
       "      <th>Pixel_X</th>\n",
       "      <th>Pixel_Y</th>\n",
       "    </tr>\n",
       "  </thead>\n",
       "  <tbody>\n",
       "    <tr>\n",
       "      <th>count</th>\n",
       "      <td>1000.000000</td>\n",
       "      <td>1000.000000</td>\n",
       "      <td>1000.000000</td>\n",
       "      <td>1000.000000</td>\n",
       "      <td>1000.000000</td>\n",
       "      <td>1000.000000</td>\n",
       "      <td>1000.000000</td>\n",
       "      <td>1000.000000</td>\n",
       "      <td>1000.000000</td>\n",
       "      <td>1000.000000</td>\n",
       "    </tr>\n",
       "    <tr>\n",
       "      <th>mean</th>\n",
       "      <td>78.759000</td>\n",
       "      <td>9.159000</td>\n",
       "      <td>121.628000</td>\n",
       "      <td>61.781000</td>\n",
       "      <td>0.485000</td>\n",
       "      <td>0.632000</td>\n",
       "      <td>2610.381000</td>\n",
       "      <td>2464.537000</td>\n",
       "      <td>0.156861</td>\n",
       "      <td>0.156861</td>\n",
       "    </tr>\n",
       "    <tr>\n",
       "      <th>std</th>\n",
       "      <td>34.512752</td>\n",
       "      <td>13.666254</td>\n",
       "      <td>72.418949</td>\n",
       "      <td>12.165897</td>\n",
       "      <td>0.500025</td>\n",
       "      <td>0.482503</td>\n",
       "      <td>325.123677</td>\n",
       "      <td>394.263638</td>\n",
       "      <td>0.015074</td>\n",
       "      <td>0.015074</td>\n",
       "    </tr>\n",
       "    <tr>\n",
       "      <th>min</th>\n",
       "      <td>0.000000</td>\n",
       "      <td>0.000000</td>\n",
       "      <td>1.000000</td>\n",
       "      <td>24.000000</td>\n",
       "      <td>0.000000</td>\n",
       "      <td>0.000000</td>\n",
       "      <td>1725.000000</td>\n",
       "      <td>1831.000000</td>\n",
       "      <td>0.139000</td>\n",
       "      <td>0.139000</td>\n",
       "    </tr>\n",
       "    <tr>\n",
       "      <th>25%</th>\n",
       "      <td>61.000000</td>\n",
       "      <td>1.000000</td>\n",
       "      <td>54.000000</td>\n",
       "      <td>54.000000</td>\n",
       "      <td>0.000000</td>\n",
       "      <td>0.000000</td>\n",
       "      <td>2500.000000</td>\n",
       "      <td>2048.000000</td>\n",
       "      <td>0.143000</td>\n",
       "      <td>0.143000</td>\n",
       "    </tr>\n",
       "    <tr>\n",
       "      <th>50%</th>\n",
       "      <td>100.500000</td>\n",
       "      <td>3.000000</td>\n",
       "      <td>118.000000</td>\n",
       "      <td>60.000000</td>\n",
       "      <td>0.000000</td>\n",
       "      <td>1.000000</td>\n",
       "      <td>2500.000000</td>\n",
       "      <td>2500.000000</td>\n",
       "      <td>0.168000</td>\n",
       "      <td>0.168000</td>\n",
       "    </tr>\n",
       "    <tr>\n",
       "      <th>75%</th>\n",
       "      <td>105.000000</td>\n",
       "      <td>10.250000</td>\n",
       "      <td>181.000000</td>\n",
       "      <td>71.000000</td>\n",
       "      <td>1.000000</td>\n",
       "      <td>1.000000</td>\n",
       "      <td>2992.000000</td>\n",
       "      <td>2974.000000</td>\n",
       "      <td>0.168000</td>\n",
       "      <td>0.168000</td>\n",
       "    </tr>\n",
       "    <tr>\n",
       "      <th>max</th>\n",
       "      <td>111.000000</td>\n",
       "      <td>65.000000</td>\n",
       "      <td>246.000000</td>\n",
       "      <td>94.000000</td>\n",
       "      <td>1.000000</td>\n",
       "      <td>1.000000</td>\n",
       "      <td>3056.000000</td>\n",
       "      <td>3056.000000</td>\n",
       "      <td>0.194311</td>\n",
       "      <td>0.194311</td>\n",
       "    </tr>\n",
       "  </tbody>\n",
       "</table>\n",
       "</div>"
      ],
      "text/plain": [
       "       Finding_Labels    Follow_Up   Patient_ID          AGE          SEX  \\\n",
       "count     1000.000000  1000.000000  1000.000000  1000.000000  1000.000000   \n",
       "mean        78.759000     9.159000   121.628000    61.781000     0.485000   \n",
       "std         34.512752    13.666254    72.418949    12.165897     0.500025   \n",
       "min          0.000000     0.000000     1.000000    24.000000     0.000000   \n",
       "25%         61.000000     1.000000    54.000000    54.000000     0.000000   \n",
       "50%        100.500000     3.000000   118.000000    60.000000     0.000000   \n",
       "75%        105.000000    10.250000   181.000000    71.000000     1.000000   \n",
       "max        111.000000    65.000000   246.000000    94.000000     1.000000   \n",
       "\n",
       "       View_Position   Orig_Width  Orig_Height      Pixel_X      Pixel_Y  \n",
       "count    1000.000000  1000.000000  1000.000000  1000.000000  1000.000000  \n",
       "mean        0.632000  2610.381000  2464.537000     0.156861     0.156861  \n",
       "std         0.482503   325.123677   394.263638     0.015074     0.015074  \n",
       "min         0.000000  1725.000000  1831.000000     0.139000     0.139000  \n",
       "25%         0.000000  2500.000000  2048.000000     0.143000     0.143000  \n",
       "50%         1.000000  2500.000000  2500.000000     0.168000     0.168000  \n",
       "75%         1.000000  2992.000000  2974.000000     0.168000     0.168000  \n",
       "max         1.000000  3056.000000  3056.000000     0.194311     0.194311  "
      ]
     },
     "execution_count": 6,
     "metadata": {},
     "output_type": "execute_result"
    }
   ],
   "source": [
    "df.describe()"
   ]
  },
  {
   "cell_type": "code",
   "execution_count": 7,
   "metadata": {},
   "outputs": [
    {
     "data": {
      "text/html": [
       "<div>\n",
       "<style scoped>\n",
       "    .dataframe tbody tr th:only-of-type {\n",
       "        vertical-align: middle;\n",
       "    }\n",
       "\n",
       "    .dataframe tbody tr th {\n",
       "        vertical-align: top;\n",
       "    }\n",
       "\n",
       "    .dataframe thead th {\n",
       "        text-align: right;\n",
       "    }\n",
       "</style>\n",
       "<table border=\"1\" class=\"dataframe\">\n",
       "  <thead>\n",
       "    <tr style=\"text-align: right;\">\n",
       "      <th></th>\n",
       "      <th>Image_Index</th>\n",
       "      <th>Labels</th>\n",
       "      <th>Finding_Labels</th>\n",
       "      <th>Follow_Up</th>\n",
       "      <th>Patient_ID</th>\n",
       "      <th>AGE</th>\n",
       "      <th>SEX</th>\n",
       "      <th>View_Position</th>\n",
       "      <th>View</th>\n",
       "      <th>Orig_Width</th>\n",
       "      <th>Orig_Height</th>\n",
       "      <th>Pixel_X</th>\n",
       "      <th>Pixel_Y</th>\n",
       "    </tr>\n",
       "  </thead>\n",
       "  <tbody>\n",
       "    <tr>\n",
       "      <th>0</th>\n",
       "      <td>00000001_000.png</td>\n",
       "      <td>Cardiomegaly</td>\n",
       "      <td>23</td>\n",
       "      <td>0</td>\n",
       "      <td>1</td>\n",
       "      <td>57</td>\n",
       "      <td>1</td>\n",
       "      <td>1</td>\n",
       "      <td>PA</td>\n",
       "      <td>2682</td>\n",
       "      <td>2749</td>\n",
       "      <td>0.143</td>\n",
       "      <td>0.143</td>\n",
       "    </tr>\n",
       "    <tr>\n",
       "      <th>1</th>\n",
       "      <td>00000001_001.png</td>\n",
       "      <td>Cardiomegaly|Emphysema</td>\n",
       "      <td>38</td>\n",
       "      <td>1</td>\n",
       "      <td>1</td>\n",
       "      <td>58</td>\n",
       "      <td>1</td>\n",
       "      <td>1</td>\n",
       "      <td>PA</td>\n",
       "      <td>2894</td>\n",
       "      <td>2729</td>\n",
       "      <td>0.143</td>\n",
       "      <td>0.143</td>\n",
       "    </tr>\n",
       "    <tr>\n",
       "      <th>2</th>\n",
       "      <td>00000001_002.png</td>\n",
       "      <td>Cardiomegaly|Effusion</td>\n",
       "      <td>32</td>\n",
       "      <td>2</td>\n",
       "      <td>1</td>\n",
       "      <td>58</td>\n",
       "      <td>1</td>\n",
       "      <td>1</td>\n",
       "      <td>PA</td>\n",
       "      <td>2500</td>\n",
       "      <td>2048</td>\n",
       "      <td>0.168</td>\n",
       "      <td>0.168</td>\n",
       "    </tr>\n",
       "    <tr>\n",
       "      <th>3</th>\n",
       "      <td>00000002_000.png</td>\n",
       "      <td>No Finding</td>\n",
       "      <td>105</td>\n",
       "      <td>0</td>\n",
       "      <td>2</td>\n",
       "      <td>80</td>\n",
       "      <td>1</td>\n",
       "      <td>1</td>\n",
       "      <td>PA</td>\n",
       "      <td>2500</td>\n",
       "      <td>2048</td>\n",
       "      <td>0.171</td>\n",
       "      <td>0.171</td>\n",
       "    </tr>\n",
       "    <tr>\n",
       "      <th>4</th>\n",
       "      <td>00000003_001.png</td>\n",
       "      <td>Hernia</td>\n",
       "      <td>90</td>\n",
       "      <td>0</td>\n",
       "      <td>3</td>\n",
       "      <td>74</td>\n",
       "      <td>0</td>\n",
       "      <td>1</td>\n",
       "      <td>PA</td>\n",
       "      <td>2500</td>\n",
       "      <td>2048</td>\n",
       "      <td>0.168</td>\n",
       "      <td>0.168</td>\n",
       "    </tr>\n",
       "  </tbody>\n",
       "</table>\n",
       "</div>"
      ],
      "text/plain": [
       "        Image_Index                  Labels  Finding_Labels  Follow_Up  \\\n",
       "0  00000001_000.png            Cardiomegaly              23          0   \n",
       "1  00000001_001.png  Cardiomegaly|Emphysema              38          1   \n",
       "2  00000001_002.png   Cardiomegaly|Effusion              32          2   \n",
       "3  00000002_000.png              No Finding             105          0   \n",
       "4  00000003_001.png                  Hernia              90          0   \n",
       "\n",
       "   Patient_ID  AGE  SEX  View_Position View  Orig_Width  Orig_Height  Pixel_X  \\\n",
       "0           1   57    1              1   PA        2682         2749    0.143   \n",
       "1           1   58    1              1   PA        2894         2729    0.143   \n",
       "2           1   58    1              1   PA        2500         2048    0.168   \n",
       "3           2   80    1              1   PA        2500         2048    0.171   \n",
       "4           3   74    0              1   PA        2500         2048    0.168   \n",
       "\n",
       "   Pixel_Y  \n",
       "0    0.143  \n",
       "1    0.143  \n",
       "2    0.168  \n",
       "3    0.171  \n",
       "4    0.168  "
      ]
     },
     "execution_count": 7,
     "metadata": {},
     "output_type": "execute_result"
    }
   ],
   "source": [
    "df.head()"
   ]
  },
  {
   "cell_type": "code",
   "execution_count": 8,
   "metadata": {},
   "outputs": [
    {
     "data": {
      "text/plain": [
       "<AxesSubplot:>"
      ]
     },
     "execution_count": 8,
     "metadata": {},
     "output_type": "execute_result"
    },
    {
     "data": {
      "image/png": "[encoded data removed]",
      "text/plain": [
       "<Figure size 432x288 with 1 Axes>"
      ]
     },
     "metadata": {
      "needs_background": "light"
     },
     "output_type": "display_data"
    }
   ],
   "source": [
    "df.plot() #kind='hist'"
   ]
  },
  {
   "cell_type": "code",
   "execution_count": 9,
   "metadata": {},
   "outputs": [],
   "source": [
    "import glob\n",
    "import matplotlib.image as mpimg\n",
    "from skimage.transform import resize"
   ]
  },
  {
   "cell_type": "code",
   "execution_count": 11,
   "metadata": {},
   "outputs": [],
   "source": [
    "img_fns = glob.glob(images + \"/*.png\")\n",
    "\n",
    "range = img_fns[0:data_range]\n",
    "all_imgs = []\n",
    "\n",
    "for i in range:\n",
    "    image = mpimg.imread(i)\n",
    "    # Convert into greyscale by taking the mean of the channels\n",
    "    if image.shape == (1024,1024,4):\n",
    "        image =np.mean(image, axis=2)\n",
    "\n",
    "    image = resize(image, (256,256))\n",
    "\n",
    "\n",
    "    all_imgs.append(image)"
   ]
  },
  {
   "cell_type": "code",
   "execution_count": 12,
   "metadata": {},
   "outputs": [
    {
     "name": "stdout",
     "output_type": "stream",
     "text": [
      "(256, 256)\n"
     ]
    },
    {
     "data": {
      "text/plain": [
       "<matplotlib.image.AxesImage at 0x22a4b2b91f0>"
      ]
     },
     "execution_count": 12,
     "metadata": {},
     "output_type": "execute_result"
    },
    {
     "data": {
      "image/png": "[encoded data removed]",
      "text/plain": [
       "<Figure size 432x288 with 1 Axes>"
      ]
     },
     "metadata": {
      "needs_background": "light"
     },
     "output_type": "display_data"
    }
   ],
   "source": [
    "all_imgs = np.array(all_imgs)\n",
    "print(all_imgs[0].shape)\n",
    "plt.imshow(all_imgs[0])"
   ]
  },
  {
   "cell_type": "code",
   "execution_count": 13,
   "metadata": {},
   "outputs": [],
   "source": [
    "all_imgs_flat = all_imgs.reshape((len(all_imgs), 256*256))"
   ]
  },
  {
   "cell_type": "code",
   "execution_count": 14,
   "metadata": {},
   "outputs": [],
   "source": [
    "from sklearn.manifold import TSNE\n",
    "import os"
   ]
  },
  {
   "cell_type": "code",
   "execution_count": 15,
   "metadata": {},
   "outputs": [
    {
     "name": "stdout",
     "output_type": "stream",
     "text": [
      "(1000, 2)\n"
     ]
    }
   ],
   "source": [
    "model = TSNE(n_components=2, init='pca') #, method='exact')\n",
    "X_embedded = model.fit_transform(all_imgs_flat)\n",
    "\n",
    "print(X_embedded.shape)"
   ]
  },
  {
   "cell_type": "code",
   "execution_count": 16,
   "metadata": {},
   "outputs": [
    {
     "data": {
      "text/plain": [
       "array([[-8.9923725, 22.988495 ],\n",
       "       [-9.832444 , 32.758457 ],\n",
       "       [34.576378 , 10.703703 ],\n",
       "       ...,\n",
       "       [12.338059 , -1.5225407],\n",
       "       [10.874575 ,  4.952868 ],\n",
       "       [11.113016 ,  5.8718185]], dtype=float32)"
      ]
     },
     "execution_count": 16,
     "metadata": {},
     "output_type": "execute_result"
    }
   ],
   "source": [
    "X_embedded"
   ]
  },
  {
   "cell_type": "code",
   "execution_count": 17,
   "metadata": {},
   "outputs": [
    {
     "data": {
      "text/plain": [
       "<matplotlib.collections.PathCollection at 0x22a000225b0>"
      ]
     },
     "execution_count": 17,
     "metadata": {},
     "output_type": "execute_result"
    },
    {
     "data": {
      "image/png": "[encoded data removed]",
      "text/plain": [
       "<Figure size 720x360 with 1 Axes>"
      ]
     },
     "metadata": {
      "needs_background": "light"
     },
     "output_type": "display_data"
    }
   ],
   "source": [
    "fig = plt.figure(figsize=(10,5))\n",
    "ax = fig.add_subplot(111)\n",
    "ax.scatter(X_embedded[:,0], X_embedded[:,1], s=25)"
   ]
  },
  {
   "cell_type": "code",
   "execution_count": 18,
   "metadata": {},
   "outputs": [
    {
     "data": {
      "text/plain": [
       "Index(['Image_Index', 'Labels', 'Finding_Labels', 'Follow_Up', 'Patient_ID',\n",
       "       'AGE', 'SEX', 'View_Position', 'View', 'Orig_Width', 'Orig_Height',\n",
       "       'Pixel_X', 'Pixel_Y'],\n",
       "      dtype='object')"
      ]
     },
     "execution_count": 18,
     "metadata": {},
     "output_type": "execute_result"
    }
   ],
   "source": [
    "df.columns"
   ]
  },
  {
   "cell_type": "code",
   "execution_count": 25,
   "metadata": {},
   "outputs": [
    {
     "name": "stdout",
     "output_type": "stream",
     "text": [
      "1000\n"
     ]
    }
   ],
   "source": [
    "print(len(df))\n",
    "df['x_val'] = pd.Series([data_range])\n",
    "df['x_val'] = X_embedded[:,0]\n",
    "df['y_val'] = X_embedded[:,1]\n",
    "df['filepaths'] = img_fns[0:data_range]\n",
    "\n",
    "base_filepaths = [os.path.basename(fn) for fn in img_fns[0:data_range]]\n",
    "df['base_filepaths'] = base_filepaths"
   ]
  },
  {
   "cell_type": "code",
   "execution_count": 26,
   "metadata": {},
   "outputs": [
    {
     "name": "stdout",
     "output_type": "stream",
     "text": [
      "data/images\\00000001_000.png\n",
      "00000001_000.png\n"
     ]
    },
    {
     "data": {
      "text/plain": [
       "'data/images\\\\00000001_000.png'"
      ]
     },
     "execution_count": 26,
     "metadata": {},
     "output_type": "execute_result"
    }
   ],
   "source": [
    "print(df['filepaths'][0])\n",
    "print(df['base_filepaths'][0])\n",
    "\n",
    "df['filepaths'][0]"
   ]
  },
  {
   "cell_type": "code",
   "execution_count": 27,
   "metadata": {},
   "outputs": [
    {
     "name": "stdout",
     "output_type": "stream",
     "text": [
      "color_Finding_Labels\n",
      "color_Follow_Up\n",
      "color_Patient_ID\n",
      "color_AGE\n",
      "color_SEX\n",
      "color_View_Position\n",
      "color_Orig_Width\n",
      "color_Orig_Height\n",
      "color_Pixel_X\n",
      "color_Pixel_Y\n"
     ]
    }
   ],
   "source": [
    "import struct #for coloring\n",
    "# map colors\n",
    "def clamp(x):\n",
    "    return max(0, min(x, 255))\n",
    "\n",
    "def set_colors(vals_for_color):\n",
    "    min_val = min(vals_for_color); max_val = max(vals_for_color)\n",
    "    vals_for_color_norm = [(float(val) - min_val) / (max_val - min_val) for val in vals_for_color] #between 0 and 1\n",
    "    vals_for_color_norm = [val if val<1 else 0.9999 for val in vals_for_color_norm]\n",
    "\n",
    "    colors_unit = [plt.cm.seismic(val)[:3] for val in vals_for_color_norm]\n",
    "    colors_rgb = [(int(color[0]*255), int(color[1]*255), int(color[2]*255)) for color in colors_unit]\n",
    "\n",
    "    colors_hex = [\"#{0:02x}{1:02x}{2:02x}\".format(clamp(color_rgb[0]), clamp(color_rgb[1]), clamp(color_rgb[2])) for color_rgb in colors_rgb]\n",
    "    \n",
    "    return colors_hex\n",
    "\n",
    "# 'Finding_Labels', 'Follow_Up', 'Patient_ID', 'AGE', 'SEX'\n",
    "# 'View_Position', 'Orig_Width', 'Orig_Height', 'Pixel_X', 'Pixel_Y'\n",
    "for col in ['Finding_Labels', 'Follow_Up', 'Patient_ID', 'AGE', 'SEX','View_Position', 'Orig_Width', 'Orig_Height', 'Pixel_X', 'Pixel_Y']:\n",
    "    print('color_'+col)\n",
    "    my_col_string = 'color_'+col\n",
    "    df[my_col_string] = set_colors(df[col].values)\n",
    "\n",
    "df['color_data'] = set_colors(df.Finding_Labels)"
   ]
  },
  {
   "cell_type": "code",
   "execution_count": 28,
   "metadata": {},
   "outputs": [
    {
     "data": {
      "text/plain": [
       "Index(['Image_Index', 'Labels', 'Finding_Labels', 'Follow_Up', 'Patient_ID',\n",
       "       'AGE', 'SEX', 'View_Position', 'View', 'Orig_Width', 'Orig_Height',\n",
       "       'Pixel_X', 'Pixel_Y', 'x_val', 'y_val', 'filepaths', 'base_filepaths',\n",
       "       'color_Finding_Labels', 'color_Follow_Up', 'color_Patient_ID',\n",
       "       'color_AGE', 'color_SEX', 'color_View_Position', 'color_Orig_Width',\n",
       "       'color_Orig_Height', 'color_Pixel_X', 'color_Pixel_Y', 'color_data'],\n",
       "      dtype='object')"
      ]
     },
     "execution_count": 28,
     "metadata": {},
     "output_type": "execute_result"
    }
   ],
   "source": [
    "df.columns"
   ]
  },
  {
   "cell_type": "code",
   "execution_count": 30,
   "metadata": {},
   "outputs": [],
   "source": [
    "# Create bokeh plot\n",
    "from bokeh.plotting import figure, output_file, show, ColumnDataSource\n",
    "from bokeh.models import CustomJS, HoverTool, PanTool, WheelZoomTool\n",
    "from bokeh.models.widgets import Button\n",
    "from bokeh.layouts import column, row\n",
    "\n",
    "output_file(\"./bokeh_vis_CXR14.html\")\n",
    "figure_size=500\n",
    "\n",
    "# Change colour here:\n",
    "df['color_data'] = set_colors(df.View_Position)\n",
    "\n",
    "source = ColumnDataSource(data=df.to_dict('list'))\n",
    "source2 = ColumnDataSource(data=df.to_dict('list'))\n",
    "\n",
    "# 'Finding_Labels', 'Follow_Up', 'Patient_ID', 'AGE', 'SEX' , \n",
    "# 'View_Position', 'Orig_Width', 'Orig_Height', 'Pixel_X', 'Pixel_Y\n",
    "hover = HoverTool(\n",
    "    tooltips=\"\"\"\n",
    "        <div>\n",
    "            <span style=\"font-size: 14px;\">@Image_Index</span>\n",
    "            <br>\n",
    "            <span style=\"font-size: 10px;\">Finding_Labels: @Labels</span>\n",
    "            <br>\n",
    "            <span style=\"font-size: 10px;\">M/F: @SEX</span>\n",
    "            <br>\n",
    "            <span style=\"font-size: 10px; color=blue\">AGE: @AGE</span>\n",
    "            <br>\n",
    "            <span style=\"font-size: 10px;\">Follow_Up: @Follow_Up</span>\n",
    "            <br>\n",
    "            <span style=\"font-size: 10px;\">Patient_ID: @Patient_ID</span>\n",
    "            <br>\n",
    "            <span style=\"font-size: 10px;\">View_Position: @View_Position</span>\n",
    "            <br>\n",
    "            <span style=\"font-size: 10px;\">Orig_Width: @Orig_Width</span>\n",
    "            <br>\n",
    "            <span style=\"font-size: 10px;\">Orig_Height: @Orig_Height</span>\n",
    "            <br>\n",
    "            <span style=\"font-size: 10px;\">Pixel_X: @Pixel_X</span>\n",
    "            <br>\n",
    "            <span style=\"font-size: 10px;\">Pixel_Y: @Pixel_Y</span>\n",
    "        </div>\n",
    "        <div>\n",
    "            <img\n",
    "                src=\"@filepaths\" alt=\"@base_filepaths\" height=\"208\" width=\"176\"\n",
    "                style=\"float: center;\"\n",
    "                border=\"2\"\n",
    "            ></img>\n",
    "        </div>\n",
    "        \"\"\"\n",
    ")\n",
    "\n",
    "#set up the plot  \n",
    "p = figure(tools=[hover, PanTool(), WheelZoomTool()], #WheelZoomTool()\n",
    "            plot_width=figure_size+500, plot_height=figure_size,\n",
    "            toolbar_location=\"above\", title=\"CXR14 Visualisation\")\n",
    "\n",
    "#draw the scatter plot\n",
    "p.circle('x_val', 'y_val', fill_color='color_data', source=source, line_color='black', size=10, alpha=0.7)\n",
    "\n",
    "from bokeh.models import LinearAxis\n",
    "p.xaxis.visible = None\n",
    "p.yaxis.visible = None\n",
    "xaxis = LinearAxis(axis_label= \"X-embedding\")\n",
    "yaxis = LinearAxis(axis_label= \"Y-embedding\")\n",
    "p.add_layout(xaxis, 'below')\n",
    "p.add_layout(yaxis, 'left')\n",
    "p.background_fill_color = \"#dddddd\"\n",
    "\n",
    "callback = CustomJS(args=dict(source=source, source2=source2, xaxis=xaxis, yaxis=yaxis), code=\"\"\"\n",
    "    var data = source.data;\n",
    "    var data2 = source2.data;\n",
    "    data['color_data'] = data2[cb_obj.origin.name];\n",
    "    source.change.emit();\n",
    "\"\"\")\n",
    "\n",
    "toggle1 = Button(label=\"Finding_Labels\",name=\"color_Finding_Labels\")\n",
    "toggle2 = Button(label=\"Follow_Up\",  name=\"color_Follow_Up\")\n",
    "toggle3 = Button(label=\"Patient_ID\",  name=\"color_Patient_ID\")\n",
    "toggle4 = Button(label=\"AGE\", name=\"color_AGE\")\n",
    "toggle5 = Button(label=\"SEX\", name=\"color_SEX\")\n",
    "toggle6 = Button(label=\"View_Position\",name=\"color_View_Position\")\n",
    "toggle7 = Button(label=\"Orig_Width\",  name=\"color_Orig_Width\")\n",
    "toggle8 = Button(label=\"Orig_Height\",  name=\"color_Orig_Width\")\n",
    "toggle9 = Button(label=\"Pixel_X\", name=\"color_Pixel_X\")\n",
    "toggle10 = Button(label=\"Pixel_Y\", name=\"color_Pixel_Y\")\n",
    "\n",
    "toggle1.js_on_click(callback) \n",
    "toggle2.js_on_click(callback) \n",
    "toggle3.js_on_click(callback) \n",
    "toggle4.js_on_click(callback) \n",
    "toggle5.js_on_click(callback) \n",
    "toggle6.js_on_click(callback) \n",
    "toggle7.js_on_click(callback) \n",
    "toggle8.js_on_click(callback) \n",
    "toggle9.js_on_click(callback) \n",
    "toggle10.js_on_click(callback) \n",
    "\n",
    "#output\n",
    "layout = column(p, row(toggle1, toggle2, toggle3, toggle4),row(toggle5, toggle6,toggle7,toggle8),row(toggle9,toggle10))\n",
    "show(layout)\n",
    "# show(p)"
   ]
  }
 ],
 "metadata": {
  "interpreter": {
   "hash": "af56b377332f73e57f1feb7517e17d5a0e7334afaa776fe306a552797332a2ac"
  },
  "kernelspec": {
   "display_name": "Python 3.8.5 64-bit ('base': conda)",
   "language": "python",
   "name": "python3"
  },
  "language_info": {
   "codemirror_mode": {
    "name": "ipython",
    "version": 3
   },
   "file_extension": ".py",
   "mimetype": "text/x-python",
   "name": "python",
   "nbconvert_exporter": "python",
   "pygments_lexer": "ipython3",
   "version": "3.8.5"
  },
  "orig_nbformat": 4
 },
 "nbformat": 4,
 "nbformat_minor": 2
}
